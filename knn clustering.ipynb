{
 "cells": [
  {
   "cell_type": "code",
   "execution_count": 1,
   "metadata": {},
   "outputs": [],
   "source": [
    "from sklearn.model_selection import train_test_split\n",
    "from sklearn.datasets import fetch_openml\n",
    "import numpy as np"
   ]
  },
  {
   "cell_type": "code",
   "execution_count": 12,
   "metadata": {},
   "outputs": [],
   "source": [
    "def calc_l2_distance(X_test, X_train):\n",
    "    test_num = X_test.shape[0]\n",
    "    train_num = X_train.shape[0]\n",
    "    dist = np.zeros((test_num, train_num))\n",
    "    \n",
    "    dist = np.sqrt(np.tile(np.sum(np.square(X_train), axis=1), (test_num, 1)) + \n",
    "                       np.tile(np.sum(np.square(X_test), axis=1), (train_num, 1)).T - 2 * np.dot(X_test, X_train.T))\n",
    "    # print(dist)\n",
    "    return dist"
   ]
  },
  {
   "cell_type": "code",
   "execution_count": 13,
   "metadata": {},
   "outputs": [],
   "source": [
    "def knn(dist, k, Y_train):\n",
    "    test_num = dist.shape[0]\n",
    "    Y_predict = np.zeros(test_num)\n",
    "    \n",
    "    for i in range(test_num):\n",
    "        dist_T = dist[i].reshape(-1,1)\n",
    "        Y_train_T = Y_train.reshape(-1,1)\n",
    "\n",
    "        dist_T = np.hstack((Y_train_T, dist_T))\n",
    "        dist_T = dist_T[dist_T[:,1].argsort()]\n",
    "        \n",
    "        dist_T = dist_T.astype(int)\n",
    "\n",
    "        class_count = [0 for j in range(10)]\n",
    "        for j in range(k):\n",
    "            class_count[dist_T[j][0]] +=1\n",
    "            \n",
    "        predict = class_count.index(max(class_count))\n",
    "        \n",
    "        Y_predict[i] = predict\n",
    "\n",
    "    return Y_predict"
   ]
  },
  {
   "cell_type": "code",
   "execution_count": 19,
   "metadata": {},
   "outputs": [],
   "source": [
    "mnist_data = fetch_openml('mnist_784')"
   ]
  },
  {
   "cell_type": "code",
   "execution_count": 20,
   "metadata": {},
   "outputs": [
    {
     "name": "stdout",
     "output_type": "stream",
     "text": [
      "(8000, 784)\n",
      "(2000, 784)\n",
      "(8000,)\n",
      "(2000,)\n"
     ]
    }
   ],
   "source": [
    "X_data = mnist_data.data[:10000]\n",
    "Y_data = mnist_data.target[:10000].astype('int32')\n",
    "\n",
    "X_train, X_test, Y_train, Y_test = train_test_split(X_data, Y_data, random_state=777, test_size=0.2)\n",
    "\n",
    "print(X_train.shape)\n",
    "print(X_test.shape)\n",
    "print(Y_train.shape)\n",
    "print(Y_test.shape)\n"
   ]
  },
  {
   "cell_type": "code",
   "execution_count": 21,
   "metadata": {},
   "outputs": [
    {
     "name": "stdout",
     "output_type": "stream",
     "text": [
      "kNN accuracy : 93.850000\n"
     ]
    }
   ],
   "source": [
    "dist = calc_l2_distance(X_test, X_train)\n",
    "\n",
    "y_pred = knn(dist, 3, Y_train)\n",
    "\n",
    "count = 0\n",
    "for i  in range(Y_test.shape[0]):\n",
    "    if(y_pred[i] == Y_test[i]):\n",
    "        count += 1\n",
    "    \n",
    "accuracy = count / Y_test.shape[0] * 100\n",
    "\n",
    "print('kNN accuracy : %f'%accuracy)"
   ]
  },
  {
   "cell_type": "code",
   "execution_count": 22,
   "metadata": {},
   "outputs": [
    {
     "name": "stdout",
     "output_type": "stream",
     "text": [
      "{3: [94.9375, 93.3125, 95.5625, 93.9375, 93.1875], 5: [94.3125, 92.875, 94.9375, 93.625, 93.6875], 7: [94.3125, 92.6875, 95.3125, 93.8125, 93.4375], 9: [94.0625, 92.875, 94.8125, 93.625, 93.0], 11: [93.375, 92.5, 94.6875, 93.375, 92.1875]}\n",
      "[94.1875 93.8875 93.9125 93.675  93.225 ]\n"
     ]
    }
   ],
   "source": [
    "# cross validation ------------------------------------------------\n",
    "\n",
    "num_fold = 5\n",
    "k_candidate = [3,5,7,9,11]\n",
    "accuracy_dict = {}\n",
    "X_train_folds = []\n",
    "Y_train_folds = []\n",
    "\n",
    "for k in k_candidate:\n",
    "    accuracy_dict[k] = []\n",
    "\n",
    "train_length = X_train.shape[0]\n",
    "fold_range = []\n",
    "for i in range(num_fold+1):\n",
    "    fold_range.append(int((train_length/num_fold)*(i)))\n",
    "    \n",
    "\n",
    "for i in range(num_fold):\n",
    "    Y_validation = []\n",
    "    Y_temp = np.split(Y_train, (fold_range[i],fold_range[i+1]))\n",
    "    Y_validation = Y_temp[1]\n",
    "    Y_train_folds = np.concatenate((Y_temp[0],Y_temp[2]), axis=0)\n",
    "   \n",
    "    #print(Y_validation)\n",
    "    #print(Y_train_folds)\n",
    "    #print(Y_train_folds.shape)\n",
    "    \n",
    "    X_validation = []\n",
    "    X_temp = np.split(X_train, (fold_range[i],fold_range[i+1]))\n",
    "    X_validation = X_temp[1]\n",
    "    X_train_folds = np.concatenate((X_temp[0],X_temp[2]), axis=0)\n",
    "    \n",
    "    #print(X_validation)\n",
    "    #print(X_train_folds)\n",
    "    #print(X_train_folds.shape)\n",
    "    \n",
    "    dist = calc_l2_distance(X_validation, X_train_folds)\n",
    "    for k in k_candidate:\n",
    "        y_pred = knn(dist, k, Y_train_folds)\n",
    "        count = 0\n",
    "        for i  in range(Y_validation.shape[0]):\n",
    "            if(y_pred[i] == Y_validation[i]):\n",
    "                count += 1\n",
    "    \n",
    "        accuracy = count / Y_validation.shape[0] * 100\n",
    "        accuracy_dict[k].append(accuracy)\n",
    "        \n",
    "\n",
    "        \n",
    "for k in k_candidate:\n",
    "    accuracies = accuracy_dict[k]\n",
    "    \n",
    "accuracy_mean = np.array([np.mean(v) for k,v in sorted(accuracy_dict.items())])\n",
    "\n",
    "print(accuracy_dict)\n",
    "print(accuracy_mean)"
   ]
  },
  {
   "cell_type": "code",
   "execution_count": null,
   "metadata": {},
   "outputs": [],
   "source": []
  }
 ],
 "metadata": {
  "kernelspec": {
   "display_name": "Python 3",
   "language": "python",
   "name": "python3"
  },
  "language_info": {
   "codemirror_mode": {
    "name": "ipython",
    "version": 3
   },
   "file_extension": ".py",
   "mimetype": "text/x-python",
   "name": "python",
   "nbconvert_exporter": "python",
   "pygments_lexer": "ipython3",
   "version": "3.7.9"
  }
 },
 "nbformat": 4,
 "nbformat_minor": 4
}
